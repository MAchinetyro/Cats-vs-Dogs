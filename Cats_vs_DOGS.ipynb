{
  "nbformat": 4,
  "nbformat_minor": 0,
  "metadata": {
    "colab": {
      "provenance": [],
      "gpuType": "T4",
      "authorship_tag": "ABX9TyOgPK7JkNGh6ACsR+BiQAIP",
      "include_colab_link": true
    },
    "kernelspec": {
      "name": "python3",
      "display_name": "Python 3"
    },
    "language_info": {
      "name": "python"
    },
    "accelerator": "GPU"
  },
  "cells": [
    {
      "cell_type": "markdown",
      "metadata": {
        "id": "view-in-github",
        "colab_type": "text"
      },
      "source": [
        "<a href=\"https://colab.research.google.com/github/MAchinetyro/Cats-vs-Dogs/blob/main/Cats_vs_DOGS.ipynb\" target=\"_parent\"><img src=\"https://colab.research.google.com/assets/colab-badge.svg\" alt=\"Open In Colab\"/></a>"
      ]
    },
    {
      "cell_type": "code",
      "source": [
        "import numpy as np\n",
        "import pandas as pd\n",
        "import os\n",
        "import torch\n",
        "import torch.nn as nn\n",
        "import cv2\n",
        "import matplotlib.pyplot as plt\n",
        "import torchvision\n",
        "import time\n",
        "import copy\n",
        "from torch.utils.data import Dataset, DataLoader, ConcatDataset\n",
        "from torchsummary import summary\n",
        "from torch.utils.tensorboard import SummaryWriter\n",
        "from torchvision import datasets, transforms, models\n",
        "import torch.optim as optim\n",
        "import torch.nn.functional as F\n",
        "from tqdm import tqdm_notebook as tqdm\n",
        "from PIL import Image\n",
        "\n",
        "torch.cuda.is_available()\n",
        "device = torch.device(\"cuda\" if torch.cuda.is_available() else \"cpu\")"
      ],
      "metadata": {
        "id": "_Ab_TGWno_Ez"
      },
      "execution_count": 1,
      "outputs": []
    },
    {
      "cell_type": "code",
      "source": [
        "!gdown --id 1Dvw0UpvItjig0JbnzbTgYKB-ibMrXdxk\n",
        "!unzip -q dogs-vs-cats.zip\n",
        "!unzip -q train.zip\n",
        "!unzip -q test1.zip"
      ],
      "metadata": {
        "id": "wFn9_bGWg8Hk",
        "colab": {
          "base_uri": "https://localhost:8080/"
        },
        "outputId": "0413daad-1a59-432e-92a1-0eaeeaf40f0e"
      },
      "execution_count": 2,
      "outputs": [
        {
          "output_type": "stream",
          "name": "stdout",
          "text": [
            "/usr/local/lib/python3.10/dist-packages/gdown/cli.py:121: FutureWarning: Option `--id` was deprecated in version 4.3.1 and will be removed in 5.0. You don't need to pass it anymore to use a file ID.\n",
            "  warnings.warn(\n",
            "Downloading...\n",
            "From: https://drive.google.com/uc?id=1Dvw0UpvItjig0JbnzbTgYKB-ibMrXdxk\n",
            "To: /content/dogs-vs-cats.zip\n",
            "100% 852M/852M [00:15<00:00, 56.1MB/s]\n"
          ]
        }
      ]
    },
    {
      "cell_type": "code",
      "source": [
        "\n",
        "train_dir = './train'\n",
        "test_dir = './test1'\n",
        "\n",
        "train_files = os.listdir(train_dir)\n",
        "test_files = os.listdir(test_dir)"
      ],
      "metadata": {
        "id": "bl9p2owjhFI7"
      },
      "execution_count": 3,
      "outputs": []
    },
    {
      "cell_type": "code",
      "source": [
        "print(f'Number of images in {train_dir} is {len(train_files)}')\n",
        "print(f'Number of images in {test_dir} is {len(test_files)}')"
      ],
      "metadata": {
        "id": "CoDO5N0qoOLW",
        "colab": {
          "base_uri": "https://localhost:8080/"
        },
        "outputId": "63c1fe48-7437-497c-8e75-fb3af7831925"
      },
      "execution_count": 4,
      "outputs": [
        {
          "output_type": "stream",
          "name": "stdout",
          "text": [
            "Number of images in ./train is 25000\n",
            "Number of images in ./test1 is 12500\n"
          ]
        }
      ]
    },
    {
      "cell_type": "code",
      "source": [
        "imgpath = os.path.join(train_dir, train_files[0])\n",
        "print(imgpath)"
      ],
      "metadata": {
        "id": "KHjQL3AIhNT0",
        "colab": {
          "base_uri": "https://localhost:8080/"
        },
        "outputId": "6410eadb-7b4e-4288-ecb0-8fede76f6e15"
      },
      "execution_count": 5,
      "outputs": [
        {
          "output_type": "stream",
          "name": "stdout",
          "text": [
            "./train/dog.5381.jpg\n"
          ]
        }
      ]
    },
    {
      "cell_type": "markdown",
      "source": [
        "Creating our Transformation"
      ],
      "metadata": {
        "id": "qHeqfev7ntzZ"
      }
    },
    {
      "cell_type": "code",
      "source": [
        "transformations = transforms.Compose([transforms.Resize((60,60)),transforms.ToTensor()])"
      ],
      "metadata": {
        "id": "FOXU2rPbo-O1"
      },
      "execution_count": 6,
      "outputs": []
    },
    {
      "cell_type": "code",
      "source": [
        "class Dataset():\n",
        "    def __init__(self, filelist, filepath, transform = None):\n",
        "        self.filelist = filelist\n",
        "        self.filepath = filepath\n",
        "        self.transform = transform\n",
        "\n",
        "    def __len__(self):\n",
        "        return int(len(self.filelist))\n",
        "\n",
        "    def __getitem__(self, index):\n",
        "        imgpath = os.path.join(self.filepath, self.filelist[index])\n",
        "        img = Image.open(imgpath)\n",
        "\n",
        "        if \"dog\" in imgpath:\n",
        "            label = 1\n",
        "        else:\n",
        "            label = 0\n",
        "\n",
        "        if self.transform is not None:\n",
        "            img = self.transform(img)\n",
        "\n",
        "        return (img, label)"
      ],
      "metadata": {
        "id": "iZmoEOq3n0Qr"
      },
      "execution_count": 7,
      "outputs": []
    },
    {
      "cell_type": "code",
      "source": [
        "# Create our train and test dataset objects\n",
        "train = Dataset(train_files, train_dir, transformations)\n",
        "val = Dataset(test_files, test_dir, transformations)"
      ],
      "metadata": {
        "id": "WBo6oW3Nn3WJ"
      },
      "execution_count": 8,
      "outputs": []
    },
    {
      "cell_type": "code",
      "source": [
        "# Getting a data entry\n",
        "train.__getitem__(0)"
      ],
      "metadata": {
        "colab": {
          "base_uri": "https://localhost:8080/"
        },
        "id": "jycdAniYoB_j",
        "outputId": "fdd54593-1e7a-430b-be42-736241146fe2"
      },
      "execution_count": 9,
      "outputs": [
        {
          "output_type": "execute_result",
          "data": {
            "text/plain": [
              "(tensor([[[0.0667, 0.1176, 0.1373,  ..., 0.4667, 0.3490, 0.3333],\n",
              "          [0.0549, 0.1176, 0.1608,  ..., 0.4745, 0.3608, 0.3294],\n",
              "          [0.0549, 0.1059, 0.1725,  ..., 0.4471, 0.3255, 0.2824],\n",
              "          ...,\n",
              "          [0.2902, 0.3059, 0.3098,  ..., 0.7529, 0.7059, 0.6863],\n",
              "          [0.2706, 0.2745, 0.2745,  ..., 0.7176, 0.6863, 0.6980],\n",
              "          [0.2706, 0.2549, 0.2627,  ..., 0.5608, 0.6667, 0.7373]],\n",
              " \n",
              "         [[0.0902, 0.1020, 0.1255,  ..., 0.3569, 0.2549, 0.2392],\n",
              "          [0.0471, 0.0863, 0.1412,  ..., 0.3765, 0.2824, 0.2471],\n",
              "          [0.0431, 0.0745, 0.1373,  ..., 0.3608, 0.2549, 0.2078],\n",
              "          ...,\n",
              "          [0.1569, 0.1686, 0.1647,  ..., 0.7843, 0.7333, 0.7216],\n",
              "          [0.1490, 0.1529, 0.1451,  ..., 0.7647, 0.7294, 0.7412],\n",
              "          [0.1412, 0.1373, 0.1373,  ..., 0.6275, 0.7216, 0.7608]],\n",
              " \n",
              "         [[0.0784, 0.0745, 0.0745,  ..., 0.2157, 0.1451, 0.1451],\n",
              "          [0.0196, 0.0314, 0.0745,  ..., 0.2275, 0.1569, 0.1333],\n",
              "          [0.0235, 0.0275, 0.0745,  ..., 0.2078, 0.1490, 0.1255],\n",
              "          ...,\n",
              "          [0.0510, 0.0627, 0.0627,  ..., 0.8471, 0.7843, 0.7725],\n",
              "          [0.0392, 0.0471, 0.0510,  ..., 0.8431, 0.7804, 0.7804],\n",
              "          [0.0392, 0.0471, 0.0471,  ..., 0.7569, 0.7765, 0.8000]]]),\n",
              " 1)"
            ]
          },
          "metadata": {},
          "execution_count": 9
        }
      ]
    },
    {
      "cell_type": "code",
      "source": [
        "# Getting the shape of a single image\n",
        "print(val.__getitem__(0)[0].shape)\n",
        "print(train.__getitem__(0)[0].shape)"
      ],
      "metadata": {
        "colab": {
          "base_uri": "https://localhost:8080/"
        },
        "id": "Pp9BuCXkoGVp",
        "outputId": "a831948e-4db0-4cd1-b58c-40ecda454940"
      },
      "execution_count": 10,
      "outputs": [
        {
          "output_type": "stream",
          "name": "stdout",
          "text": [
            "torch.Size([3, 60, 60])\n",
            "torch.Size([3, 60, 60])\n"
          ]
        }
      ]
    },
    {
      "cell_type": "markdown",
      "source": [
        "Now we will Build our Model"
      ],
      "metadata": {
        "id": "elqNbSQjoaoY"
      }
    },
    {
      "cell_type": "code",
      "source": [
        "class CNN(nn.Module):\n",
        "    def __init__(self):\n",
        "        super().__init__()\n",
        "        self.conv1 = nn.Sequential(\n",
        "            nn.Conv2d(3,16,3),\n",
        "            nn.ReLU(),\n",
        "            nn.MaxPool2d(2,2)\n",
        "            )\n",
        "\n",
        "        self.conv2 =   nn.Sequential(\n",
        "            nn.Conv2d(16,32,3),\n",
        "            nn.ReLU(),\n",
        "            nn.MaxPool2d(2,2)\n",
        "        )\n",
        "        self.conv3 =   nn.Sequential(\n",
        "            nn.Conv2d(32,64,3),\n",
        "            nn.ReLU(),\n",
        "            nn.MaxPool2d(2,2)\n",
        "        )\n",
        "\n",
        "        self.fc1 = nn.Sequential(\n",
        "        nn.Flatten(),\n",
        "        nn.Linear(64*5*5,256),\n",
        "        nn.ReLU(),\n",
        "        nn.Linear(256,128),\n",
        "        nn.ReLU()\n",
        "        )\n",
        "\n",
        "        self.fc2 = nn.Sequential(\n",
        "        nn.Linear(128,2),\n",
        "        )\n",
        "\n",
        "    def forward(self,x):\n",
        "        x = self.conv1(x)\n",
        "        x = self.conv2(x)\n",
        "        x = self.conv3(x)\n",
        "        x = self.fc1(x)\n",
        "        x = self.fc2(x)\n",
        "        return F.softmax(x,dim = 1)"
      ],
      "metadata": {
        "id": "Rd35IsIEoIwa"
      },
      "execution_count": 11,
      "outputs": []
    },
    {
      "cell_type": "code",
      "source": [],
      "metadata": {
        "id": "bi2IW_ZAoesQ"
      },
      "execution_count": null,
      "outputs": []
    }
  ]
}